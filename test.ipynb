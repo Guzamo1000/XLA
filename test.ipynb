{
 "cells": [
  {
   "cell_type": "code",
   "execution_count": null,
   "metadata": {},
   "outputs": [
    {
     "ename": "",
     "evalue": "",
     "output_type": "error",
     "traceback": [
      "\u001b[1;31mThe kernel failed to start due to the missing module 'prompt_toolkit.formatted_text'. Consider installing this module.\n",
      "Click <a href='https://aka.ms/kernelFailuresMissingModule'>here</a> for more info."
     ]
    }
   ],
   "source": [
    "# Chuyển RGB sang tên\n",
    "import webcolors\n",
    "def get_colour_name(requested_colour):\n",
    "    try:\n",
    "        closest_name = actual_name = webcolors.rgb_to_name(requested_colour)\n",
    "    except ValueError:\n",
    "        closest_name = closest_colour(requested_colour)\n",
    "        actual_name = None\n",
    "    return actual_name, closest_name\n",
    "def color_high_kmean(path,clusters):\n",
    "    \"\"\"\n",
    "    Find popular colors\n",
    "    input: path image\n",
    "    output: list RGB (image)\n",
    "    \"\"\"\n",
    "    img=cv2.imread(path,1)\n",
    "    img=imutils.resize(img,height=200)\n",
    "    flat_img=np.reshape(img,(-1,3))\n",
    "    kmeans=KMeans(n_clusters=clusters,random_state=0)\n",
    "    kmeans.fit(flat_img)\n",
    "    dominant_colors = np.array(kmeans.cluster_centers_,dtype='uint')\n",
    "    percentages = (np.unique(kmeans.labels_,return_counts=True)[1])/flat_img.shape[0]\n",
    "    p_and_c = zip(percentages,dominant_colors)\n",
    "    p_and_c = sorted(p_and_c,reverse=True)\n",
    "    image=[]\n",
    "    for i in range(len(p_and_c)):\n",
    "        image.append(p_and_c[i][1])\n",
    "        image[i]=(image[i].tolist())\n",
    "    return image\n",
    "\n",
    "def name_main_color(rgb):\n",
    "    \"\"\"\n",
    "    find color near (Euclidean distance)\n",
    "    input: code RGB\n",
    "    output: RGB near\n",
    "    \"\"\"\n",
    "    COLORS={\n",
    "        \"RED\": [\"lighsalmon\",\"salmon\",\"darksalmon\",\"LightCoral\",\"IndianRed\",\"Crimson\",\"Red\",\"FireBrick\",\"DarkRed\"],\n",
    "        \"ORANGE\": [\"Orange\",\"DarkOrange\",\"Coral\",\"Tomato\",\"OrangeRed\"],\n",
    "        \"YELLOW\": [\"Gold\",\"Yellow\",\"LightYellow\",\"LemonChiffon\",\"LightGoldenRodYellow\",\"PapayaWhip\",\"Moccasin\",\"PeachPuff\",\"PaleGoldenRod\",\"Khaki\",\"DarkKhaki\"],\n",
    "        \"GREEN\": [\"GreenYellow\",\"Chartreuse\",\"LawnGreen\", \"Lime\",\"LimeGreen\",\"PaleGreen\",\"LightGreen\",\"MediumSpringGreen\",\"SpringGreen\",\"MediumSeaGreen\",\"SeaGreen\",\"ForestGreen\",\"Green\",\"DarkGreen\",\"YellowGreen\",\"OliveDrab\",\"DarkOliveGreen\",\"MediumAquaMarine\",\"DarkSeaGreen\",\"LightSeaGreen\",\"DarkCyan\",\"Teal\" ]\n",
    "    }\n",
    "    vl=None\n",
    "    for keys,value in COLORS.items():\n",
    "      for i in value:\n",
    "        i=i.lower()\n",
    "        color=get_colour_name(rgb)[1]\n",
    "        # print(color)\n",
    "        if i==color.lower():\n",
    "          return keys\n",
    "    return get_colour_name(rgb)[1]\n",
    "def cl(path):\n",
    "  c=color_high_kmean('/content/010829gt55.jpg',5)\n",
    "  d=[]\n",
    "  for i in c:\n",
    "    p=name_main_color(i)\n",
    "    d.append(p)\n",
    "  return get_colour_name(min(d)[1])\n"
   ]
  },
  {
   "cell_type": "code",
   "execution_count": null,
   "metadata": {},
   "outputs": [],
   "source": []
  }
 ],
 "metadata": {
  "kernelspec": {
   "display_name": "Python 3.10.2 64-bit",
   "language": "python",
   "name": "python3"
  },
  "language_info": {
   "name": "python",
   "version": "3.10.2"
  },
  "orig_nbformat": 4,
  "vscode": {
   "interpreter": {
    "hash": "a42ccb73e7d9bfdf27e036f1d2b8b681e55fc0743cc5586bc2474d4a60f4b886"
   }
  }
 },
 "nbformat": 4,
 "nbformat_minor": 2
}
